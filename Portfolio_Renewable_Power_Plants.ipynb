version https://git-lfs.github.com/spec/v1
oid sha256:7676f2304836a7a156e9202476919ae13266ae76f033714caabd8faebc2e5105
size 114215984
